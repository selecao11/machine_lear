{
 "cells": [
  {
   "cell_type": "code",
   "execution_count": 2,
   "metadata": {},
   "outputs": [],
   "source": [
    "from PIL import Image\n",
    "import numpy as np\n",
    "import os,glob"
   ]
  },
  {
   "cell_type": "code",
   "execution_count": 3,
   "metadata": {},
   "outputs": [],
   "source": [
    "# リサイズ設定\n",
    "resize_settings = (50,50)\n",
    "\n",
    "# 画像データ\n",
    "X_train = [] # 学習\n",
    "y_train = [] # 学習ラベル\n",
    "X_test  = [] # テスト\n",
    "y_test  = [] # テストラベル\n"
   ]
  },
  {
   "cell_type": "code",
   "execution_count": 4,
   "metadata": {},
   "outputs": [
    {
     "data": {
      "text/plain": [
       "['/home/user/画像/iori_kiroku_test/IMG_2047.JPG',\n",
       " '/home/user/画像/iori_kiroku_test/HBPN3912.JPG',\n",
       " '/home/user/画像/iori_kiroku_test/FOPL5992.JPG']"
      ]
     },
     "execution_count": 4,
     "metadata": {},
     "output_type": "execute_result"
    }
   ],
   "source": [
    "photos_dir = \"/home/user/画像/iori_kiroku_test\"\n",
    "\n",
    "# 画像データを取得\n",
    "files = glob.glob(photos_dir + \"/*.JPG\")\n",
    "files"
   ]
  },
  {
   "cell_type": "code",
   "execution_count": 11,
   "metadata": {},
   "outputs": [
    {
     "data": {
      "text/plain": [
       "array([[191, 184, 176],\n",
       "       [192, 185, 176],\n",
       "       [193, 186, 178],\n",
       "       [192, 184, 176],\n",
       "       [192, 184, 176],\n",
       "       [193, 185, 178],\n",
       "       [192, 185, 177],\n",
       "       [193, 185, 178],\n",
       "       [192, 185, 177],\n",
       "       [193, 186, 178],\n",
       "       [193, 186, 179],\n",
       "       [193, 186, 178],\n",
       "       [194, 187, 180],\n",
       "       [194, 186, 180],\n",
       "       [195, 187, 181],\n",
       "       [194, 187, 180],\n",
       "       [194, 187, 180],\n",
       "       [194, 187, 180],\n",
       "       [194, 186, 180],\n",
       "       [194, 187, 180],\n",
       "       [194, 187, 180],\n",
       "       [195, 187, 181],\n",
       "       [195, 188, 182],\n",
       "       [194, 188, 181],\n",
       "       [195, 188, 182],\n",
       "       [195, 189, 182],\n",
       "       [195, 188, 182],\n",
       "       [196, 190, 183],\n",
       "       [197, 191, 184],\n",
       "       [196, 189, 182],\n",
       "       [196, 189, 182],\n",
       "       [196, 189, 181],\n",
       "       [195, 188, 180],\n",
       "       [197, 189, 182],\n",
       "       [197, 189, 182],\n",
       "       [196, 189, 182],\n",
       "       [197, 189, 182],\n",
       "       [196, 189, 182],\n",
       "       [195, 188, 181],\n",
       "       [196, 189, 182],\n",
       "       [197, 189, 182],\n",
       "       [196, 188, 180],\n",
       "       [194, 186, 179],\n",
       "       [196, 188, 181],\n",
       "       [195, 187, 180],\n",
       "       [195, 188, 180],\n",
       "       [196, 188, 181],\n",
       "       [196, 189, 182],\n",
       "       [196, 189, 182],\n",
       "       [196, 194, 185]], dtype=uint8)"
      ]
     },
     "execution_count": 11,
     "metadata": {},
     "output_type": "execute_result"
    }
   ],
   "source": [
    "for i,file in enumerate(files):\n",
    "    \n",
    "    # 画像を1つ読込\n",
    "    image = Image.open(file)\n",
    "    # 画像をRGBの3色に変換\n",
    "    image = image.convert(\"RGB\")\n",
    "\n",
    "    # 画像のサイズを揃える\n",
    "    image = image.resize(resize_settings)\n",
    "    data  = np.asarray(image)\n",
    "    X_train.append(data)\n",
    "data.shape\n",
    "data[0]"
   ]
  },
  {
   "cell_type": "code",
   "execution_count": null,
   "metadata": {},
   "outputs": [],
   "source": []
  }
 ],
 "metadata": {
  "kernelspec": {
   "display_name": "machine_lear",
   "language": "python",
   "name": "python3"
  },
  "language_info": {
   "codemirror_mode": {
    "name": "ipython",
    "version": 3
   },
   "file_extension": ".py",
   "mimetype": "text/x-python",
   "name": "python",
   "nbconvert_exporter": "python",
   "pygments_lexer": "ipython3",
   "version": "3.9.15"
  },
  "orig_nbformat": 4,
  "vscode": {
   "interpreter": {
    "hash": "81dda93d385a6f9878d5383f3d2d94c61a4bcfa83955851365ed558fc00b7f9c"
   }
  }
 },
 "nbformat": 4,
 "nbformat_minor": 2
}
