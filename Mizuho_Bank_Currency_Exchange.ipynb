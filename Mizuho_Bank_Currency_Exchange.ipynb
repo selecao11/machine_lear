{
 "cells": [
  {
   "cell_type": "code",
   "execution_count": 13,
   "metadata": {},
   "outputs": [
    {
     "name": "stdout",
     "output_type": "stream",
     "text": [
      "<table class=\"type1 js-market\" data-market-id=\"bk03\" summary=\"ご参考\">\n",
      "<thead>\n",
      "<tr>\n",
      "<th class=\"alnCenter\">通貨</th>\n",
      "<th class=\"alnCenter\">記号</th>\n",
      "<th class=\"alnCenter\">参考相場</th>\n",
      "</tr>\n",
      "</thead>\n",
      "<tbody>\n",
      "<tr>\n",
      "<th class=\"tbgGray02 noBorderL left\" headers=\"th1 th2\"></th>\n",
      "<td class=\"alnRight\" headers=\"th1 th2\"></td>\n",
      "<td class=\"alnRight\" headers=\"th1 th2\"></td>\n",
      "</tr>\n",
      "</tbody>\n",
      "</table>\n"
     ]
    },
    {
     "ename": "AttributeError",
     "evalue": "ResultSet object has no attribute 'findAll'. You're probably treating a list of elements like a single element. Did you call find_all() when you meant to call find()?",
     "output_type": "error",
     "traceback": [
      "\u001b[1;31m---------------------------------------------------------------------------\u001b[0m",
      "\u001b[1;31mAttributeError\u001b[0m                            Traceback (most recent call last)",
      "Cell \u001b[1;32mIn[13], line 12\u001b[0m\n\u001b[0;32m     10\u001b[0m \u001b[39mprint\u001b[39m(table)\n\u001b[0;32m     11\u001b[0m csvRow \u001b[39m=\u001b[39m []\n\u001b[1;32m---> 12\u001b[0m \u001b[39mfor\u001b[39;00m cell \u001b[39min\u001b[39;00m rows\u001b[39m.\u001b[39;49mfindAll([\u001b[39m\"\u001b[39m\u001b[39mtd\u001b[39m\u001b[39m\"\u001b[39m, \u001b[39m\"\u001b[39m\u001b[39mth\u001b[39m\u001b[39m\"\u001b[39m]):\n\u001b[0;32m     13\u001b[0m     csvRow\u001b[39m.\u001b[39mappend(cell\u001b[39m.\u001b[39mget_text())\n",
      "File \u001b[1;32mc:\\anaconda3\\envs\\machine_lear\\lib\\site-packages\\bs4\\element.py:2289\u001b[0m, in \u001b[0;36mResultSet.__getattr__\u001b[1;34m(self, key)\u001b[0m\n\u001b[0;32m   2287\u001b[0m \u001b[39mdef\u001b[39;00m \u001b[39m__getattr__\u001b[39m(\u001b[39mself\u001b[39m, key):\n\u001b[0;32m   2288\u001b[0m     \u001b[39m\"\"\"Raise a helpful exception to explain a common code fix.\"\"\"\u001b[39;00m\n\u001b[1;32m-> 2289\u001b[0m     \u001b[39mraise\u001b[39;00m \u001b[39mAttributeError\u001b[39;00m(\n\u001b[0;32m   2290\u001b[0m         \u001b[39m\"\u001b[39m\u001b[39mResultSet object has no attribute \u001b[39m\u001b[39m'\u001b[39m\u001b[39m%s\u001b[39;00m\u001b[39m'\u001b[39m\u001b[39m. You\u001b[39m\u001b[39m'\u001b[39m\u001b[39mre probably treating a list of elements like a single element. Did you call find_all() when you meant to call find()?\u001b[39m\u001b[39m\"\u001b[39m \u001b[39m%\u001b[39m key\n\u001b[0;32m   2291\u001b[0m     )\n",
      "\u001b[1;31mAttributeError\u001b[0m: ResultSet object has no attribute 'findAll'. You're probably treating a list of elements like a single element. Did you call find_all() when you meant to call find()?"
     ]
    }
   ],
   "source": [
    "#https://beyondjapan.com/blog/2022/04/py-scraping/\n",
    "from bs4 import BeautifulSoup\n",
    "from html.parser import HTMLParser\n",
    "import csv\n",
    "from urllib.request import urlopen\n",
    "headers = {\"User-Agent\": \"Mozilla/5.0 (X11; Linux x86_64; rv:61.0) Gecko/20100101 Firefox/61.0\"}\n",
    "html = urlopen(\"https://www.mizuhobank.co.jp/market/quote/index.html\")\n",
    "bsObj = BeautifulSoup(html, \"html.parser\")\n",
    "table = bsObj.findAll(\"table\")[2]\n",
    "rows = table.findAll(\"tr\")\n",
    "print(table) \n",
    "csvRow = []\n",
    "for cell in rows.findAll([\"td\", \"th\"]):\n",
    "    csvRow.append(cell.get_text())\n"
   ]
  }
 ],
 "metadata": {
  "kernelspec": {
   "display_name": "machine_lear",
   "language": "python",
   "name": "python3"
  },
  "language_info": {
   "codemirror_mode": {
    "name": "ipython",
    "version": 3
   },
   "file_extension": ".py",
   "mimetype": "text/x-python",
   "name": "python",
   "nbconvert_exporter": "python",
   "pygments_lexer": "ipython3",
   "version": "3.9.15 (main, Nov 24 2022, 14:39:17) [MSC v.1916 64 bit (AMD64)]"
  },
  "orig_nbformat": 4,
  "vscode": {
   "interpreter": {
    "hash": "8c2643e6d9d8250eb3a68a57bbee9836bc6bc5187d2c994cb8ad34d3a0885e64"
   }
  }
 },
 "nbformat": 4,
 "nbformat_minor": 2
}
