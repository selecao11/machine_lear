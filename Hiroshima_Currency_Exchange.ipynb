{
 "cells": [
  {
   "cell_type": "code",
   "execution_count": 7,
   "metadata": {},
   "outputs": [
    {
     "data": {
      "text/html": [
       "<div>\n",
       "<style scoped>\n",
       "    .dataframe tbody tr th:only-of-type {\n",
       "        vertical-align: middle;\n",
       "    }\n",
       "\n",
       "    .dataframe tbody tr th {\n",
       "        vertical-align: top;\n",
       "    }\n",
       "\n",
       "    .dataframe thead th {\n",
       "        text-align: right;\n",
       "    }\n",
       "</style>\n",
       "<table border=\"1\" class=\"dataframe\">\n",
       "  <thead>\n",
       "    <tr style=\"text-align: right;\">\n",
       "      <th></th>\n",
       "      <th>Unnamed: 0</th>\n",
       "      <th>Unnamed: 1</th>\n",
       "      <th>TTS 電信売り</th>\n",
       "      <th>TTB 電信買い</th>\n",
       "      <th>MIDDLE 仲値</th>\n",
       "    </tr>\n",
       "  </thead>\n",
       "  <tbody>\n",
       "    <tr>\n",
       "      <th>0</th>\n",
       "      <td>通貨</td>\n",
       "      <td>記号</td>\n",
       "      <td>円</td>\n",
       "      <td>円</td>\n",
       "      <td>円</td>\n",
       "    </tr>\n",
       "    <tr>\n",
       "      <th>1</th>\n",
       "      <td>NaN</td>\n",
       "      <td>NaN</td>\n",
       "      <td>NaN</td>\n",
       "      <td>NaN</td>\n",
       "      <td>NaN</td>\n",
       "    </tr>\n",
       "  </tbody>\n",
       "</table>\n",
       "</div>"
      ],
      "text/plain": [
       "  Unnamed: 0 Unnamed: 1 TTS 電信売り TTB 電信買い MIDDLE 仲値\n",
       "0         通貨         記号        円        円         円\n",
       "1        NaN        NaN      NaN      NaN       NaN"
      ]
     },
     "execution_count": 7,
     "metadata": {},
     "output_type": "execute_result"
    }
   ],
   "source": [
    "#https://ai-inter1.com/python-pandas_scraping/\n",
    "import pandas as pd\n",
    "url = 'https://www.hirogin.co.jp/rates-exchange/'\n",
    "url = 'https://www.mizuhobank.co.jp/market/quote/index.html'\n",
    "data = pd.read_html(url, header = 0)\n",
    "data[0].head()\n"
   ]
  }
 ],
 "metadata": {
  "kernelspec": {
   "display_name": "machine_lear",
   "language": "python",
   "name": "python3"
  },
  "language_info": {
   "codemirror_mode": {
    "name": "ipython",
    "version": 3
   },
   "file_extension": ".py",
   "mimetype": "text/x-python",
   "name": "python",
   "nbconvert_exporter": "python",
   "pygments_lexer": "ipython3",
   "version": "3.9.15"
  },
  "orig_nbformat": 4,
  "vscode": {
   "interpreter": {
    "hash": "8c2643e6d9d8250eb3a68a57bbee9836bc6bc5187d2c994cb8ad34d3a0885e64"
   }
  }
 },
 "nbformat": 4,
 "nbformat_minor": 2
}
